{
 "cells": [
  {
   "cell_type": "code",
   "execution_count": 8,
   "metadata": {},
   "outputs": [],
   "source": [
    "import pandas as pd\n",
    "\n"
   ]
  },
  {
   "cell_type": "code",
   "execution_count": 9,
   "metadata": {},
   "outputs": [],
   "source": [
    "data = pd.read_csv(\"prisonerresponses.csv\")"
   ]
  },
  {
   "cell_type": "code",
   "execution_count": 12,
   "metadata": {},
   "outputs": [
    {
     "name": "stdout",
     "output_type": "stream",
     "text": [
      "<class 'pandas.core.frame.DataFrame'>\n",
      "RangeIndex: 8266 entries, 0 to 8265\n",
      "Data columns (total 37 columns):\n",
      " #   Column                                                             Non-Null Count  Dtype \n",
      "---  ------                                                             --------------  ----- \n",
      " 0   age                                                                5618 non-null   object\n",
      " 1   identifies_as_man                                                  6240 non-null   object\n",
      " 2   identifies_as_woman                                                6240 non-null   object\n",
      " 3   identifies_as_hispanic_or_latinx                                   6240 non-null   object\n",
      " 4   identifies_as_black                                                6240 non-null   object\n",
      " 5   identifies_as_white                                                6240 non-null   object\n",
      " 6   highest_education_level                                            5618 non-null   object\n",
      " 7   length_in_this_facility                                            5618 non-null   object\n",
      " 8   state                                                              2936 non-null   object\n",
      " 9   party                                                              7617 non-null   object\n",
      " 10  how_often_discuss_politics                                         8265 non-null   object\n",
      " 11  how_get_news                                                       8210 non-null   object\n",
      " 12  ever_voted                                                         8070 non-null   object\n",
      " 13  direction_country_headed                                           8043 non-null   object\n",
      " 14  how_often_officials_acting_in_your_interest                        8005 non-null   object\n",
      " 15  which_party_for_cj_reform                                          7973 non-null   object\n",
      " 16  stance_on_assault_weapons_ban                                      7956 non-null   object\n",
      " 17  stance_on_marijuana_legalization                                   7953 non-null   object\n",
      " 18  stance_on_tightening_border_security                               7943 non-null   object\n",
      " 19  stance_on_raise_min_wage                                           7933 non-null   object\n",
      " 20  race_affects_politics                                              7822 non-null   object\n",
      " 21  should_incarcerated_vote                                           7833 non-null   object\n",
      " 22  incarceration_impacts_motivation_to_vote                           7741 non-null   object\n",
      " 23  politics_changed_since_incarcerated                                7733 non-null   object\n",
      " 24  cj_important_issue_eliminating_mandatory_mins                      8266 non-null   int64 \n",
      " 25  cj_important_issue_reducing_racial_bias                            8266 non-null   int64 \n",
      " 26  cj_important_issue_abolishing_death_penalty                        8266 non-null   int64 \n",
      " 27  cj_important_issue_lowering_incarceration_rates_rural_communities  8266 non-null   int64 \n",
      " 28  cj_important_issue_improving_prison_conds                          8266 non-null   int64 \n",
      " 29  cj_important_issue_restoring_voting_rights                         8266 non-null   int64 \n",
      " 30  cj_important_issue_reducing_prison_pop                             8266 non-null   int64 \n",
      " 31  cj_important_issue_ending_war_on_drugs                             8266 non-null   int64 \n",
      " 32  cj_important_issue_ending_private_prisons                          8266 non-null   int64 \n",
      " 33  cj_important_issue_lowering_sentences_violent_crimes               8266 non-null   int64 \n",
      " 34  cj_important_issue_raising_wages_incarcerated_workers              8266 non-null   int64 \n",
      " 35  who_vote_for                                                       7564 non-null   object\n",
      " 36  approve_disapprove_trump                                           7637 non-null   object\n",
      "dtypes: int64(11), object(26)\n",
      "memory usage: 2.3+ MB\n"
     ]
    }
   ],
   "source": [
    "data.info()"
   ]
  },
  {
   "cell_type": "code",
   "execution_count": 13,
   "metadata": {},
   "outputs": [],
   "source": [
    "#Who do prisoners prefer, Biden, Sanders or Trump?\n",
    "#Are more prisoners Republican or Democrat?\n",
    "#How do most inmates get the news?\n",
    "#Do prisoners views look different as they age?"
   ]
  },
  {
   "cell_type": "code",
   "execution_count": 14,
   "metadata": {},
   "outputs": [],
   "source": [
    "#Who do prisoners prefer?"
   ]
  },
  {
   "cell_type": "code",
   "execution_count": 17,
   "metadata": {},
   "outputs": [
    {
     "data": {
      "text/plain": [
       "Donald Trump                   2288\n",
       "Don't Know / Would not vote    2032\n",
       "Bernie Sanders                 1017\n",
       "Joe Biden                       803\n",
       "Elizabeth Warren                308\n",
       "Kamala Harris                   236\n",
       "Tom Steyer                      207\n",
       "Andrew Yang                     149\n",
       "Pete Buttigieg                  149\n",
       "Amy Klobuchar                   146\n",
       "Cory Booker                     129\n",
       "Julian Castro                   100\n",
       "Name: who_vote_for, dtype: int64"
      ]
     },
     "execution_count": 17,
     "metadata": {},
     "output_type": "execute_result"
    }
   ],
   "source": [
    "data['who_vote_for'].value_counts()"
   ]
  },
  {
   "cell_type": "code",
   "execution_count": 53,
   "metadata": {},
   "outputs": [],
   "source": [
    "#Save this for export\n",
    "prisonervote = data['who_vote_for'].value_counts()"
   ]
  },
  {
   "cell_type": "code",
   "execution_count": 28,
   "metadata": {},
   "outputs": [
    {
     "data": {
      "text/plain": [
       "Independent             2331\n",
       "The Democratic party    1995\n",
       "The Republican party    1934\n",
       "Other                   1357\n",
       "Name: party, dtype: int64"
      ]
     },
     "execution_count": 28,
     "metadata": {},
     "output_type": "execute_result"
    }
   ],
   "source": [
    "#Q2: Are more prisoners Republican or Democrat?\n",
    "data['party'].value_counts()"
   ]
  },
  {
   "cell_type": "code",
   "execution_count": 23,
   "metadata": {},
   "outputs": [],
   "source": [
    "prisonerparty = data['party'].value_counts()"
   ]
  },
  {
   "cell_type": "code",
   "execution_count": 33,
   "metadata": {},
   "outputs": [
    {
     "data": {
      "text/plain": [
       "Local TV news                               3850\n",
       "Cable news                                  1622\n",
       "Newspapers                                   825\n",
       "Word of mouth                                477\n",
       "Local radio                                  357\n",
       "National public radio                        281\n",
       "Do not have access to news                   222\n",
       "Do not read / watch / listen to the news     206\n",
       "Newspapers, Local TV news                     45\n",
       "Newspapers, Local radio, Local TV news        20\n",
       "Name: how_get_news, dtype: int64"
      ]
     },
     "execution_count": 33,
     "metadata": {},
     "output_type": "execute_result"
    }
   ],
   "source": [
    "#Q3: How do most inmates get the news?\n",
    "prisonernews - data['how_get_news'].value_counts()\n",
    "prisonernews.head(10)"
   ]
  },
  {
   "cell_type": "code",
   "execution_count": 34,
   "metadata": {},
   "outputs": [],
   "source": [
    "prisonernews = prisonernews.head(10)"
   ]
  },
  {
   "cell_type": "code",
   "execution_count": 35,
   "metadata": {},
   "outputs": [
    {
     "name": "stdout",
     "output_type": "stream",
     "text": [
      "Local TV news                               3850\n",
      "Cable news                                  1622\n",
      "Newspapers                                   825\n",
      "Word of mouth                                477\n",
      "Local radio                                  357\n",
      "National public radio                        281\n",
      "Do not have access to news                   222\n",
      "Do not read / watch / listen to the news     206\n",
      "Newspapers, Local TV news                     45\n",
      "Newspapers, Local radio, Local TV news        20\n",
      "Name: how_get_news, dtype: int64\n"
     ]
    }
   ],
   "source": [
    "print(prisonernews)"
   ]
  },
  {
   "cell_type": "code",
   "execution_count": 43,
   "metadata": {},
   "outputs": [],
   "source": [
    "#Q4: Does length in prison affect political affiliation?\n",
    "#I want two groups, group a = 10yrs or less and group b = 10yrs +. Then I want to do value counts of political views."
   ]
  },
  {
   "cell_type": "code",
   "execution_count": 54,
   "metadata": {},
   "outputs": [],
   "source": [
    "#Export dataframes to CSV\n",
    "prisonernews.to_csv('prisonernews.csv')\n",
    "prisonervote.to_csv('prisonervote.csv')\n",
    "prisonerparty.to_csv('prisonerparty.csv')"
   ]
  },
  {
   "cell_type": "code",
   "execution_count": null,
   "metadata": {},
   "outputs": [],
   "source": []
  }
 ],
 "metadata": {
  "kernelspec": {
   "display_name": "Python 3",
   "language": "python",
   "name": "python3"
  },
  "language_info": {
   "codemirror_mode": {
    "name": "ipython",
    "version": 3
   },
   "file_extension": ".py",
   "mimetype": "text/x-python",
   "name": "python",
   "nbconvert_exporter": "python",
   "pygments_lexer": "ipython3",
   "version": "3.8.2"
  }
 },
 "nbformat": 4,
 "nbformat_minor": 4
}
